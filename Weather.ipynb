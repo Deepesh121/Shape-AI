{
 "cells": [
  {
   "cell_type": "code",
   "execution_count": 1,
   "metadata": {},
   "outputs": [
    {
     "name": "stdout",
     "output_type": "stream",
     "text": [
      "Enter the city name: jhajjar\n",
      "<Response [200]>\n",
      "{'coord': {'lon': 76.6565, 'lat': 28.6063}, 'weather': [{'id': 800, 'main': 'Clear', 'description': 'clear sky', 'icon': '01d'}], 'base': 'stations', 'main': {'temp': 304.33, 'feels_like': 302.89, 'temp_min': 303.12, 'temp_max': 307.22, 'pressure': 1001, 'humidity': 28, 'sea_level': 1001, 'grnd_level': 977}, 'visibility': 10000, 'wind': {'speed': 5.73, 'deg': 276, 'gust': 7.06}, 'clouds': {'all': 2}, 'dt': 1624590383, 'sys': {'type': 1, 'id': 9165, 'country': 'IN', 'sunrise': 1624579025, 'sunset': 1624629284}, 'timezone': 19800, 'id': 1269042, 'name': 'Jhajjar', 'cod': 200}\n"
     ]
    }
   ],
   "source": [
    "import requests\n",
    "#import os\n",
    "from datetime import datetime\n",
    "\n",
    "#api_key = '87d845b0b6cf29baa1a73cc34b067a95'\n",
    "api_key = \"3cc0f0ea30a239b6ee10ef439d7d312b\"\n",
    "location = input(\"Enter the city name: \")\n",
    "\n",
    "complete_api_link = \"https://api.openweathermap.org/data/2.5/weather?q=\"+location+\"&appid=\"+api_key\n",
    "api_link = requests.get(complete_api_link)\n",
    "api_data = api_link.json()\n",
    "print (api_data)"
   ]
  },
  {
   "cell_type": "code",
   "execution_count": 9,
   "metadata": {},
   "outputs": [],
   "source": [
    "import json\n",
    "with open('weather.txt', 'w') as apf:\n",
    "     apf.write(json.dumps(api_data))\n",
    "apf.close()\n",
    "with open('weather.txt', 'r') as apf:\n",
    "    data = apf.read()\n",
    "api_data = json.loads(data)"
   ]
  },
  {
   "cell_type": "code",
   "execution_count": null,
   "metadata": {},
   "outputs": [],
   "source": [
    "#create variables to store and display data\n",
    "temp_city = ((api_data['main']['temp']) - 273.15) #to convert in degree Celcius from Kelvin\n",
    "weather_desc = api_data['weather'][0]['description']\n",
    "hmdt = api_data['main']['humidity']\n",
    "wind_spd = api_data['wind']['speed']\n",
    "date_time = datetime.now().strftime(\"%d %b %Y | %I:%M:%S %p\")"
   ]
  },
  {
   "cell_type": "code",
   "execution_count": null,
   "metadata": {},
   "outputs": [],
   "source": [
    "print (\"-------------------------------------------------------------\")\n",
    "print (\"Weather Stats for - {}  || {}\".format(location.upper(), date_time))\n",
    "print (\"-------------------------------------------------------------\")\n",
    "\n",
    "print (\"Current temperature is: {:.2f} deg C\".format(temp_city))\n",
    "print (\"Current weather desc  :\",weather_desc)\n",
    "print (\"Current Humidity      :\",hmdt, '%')\n",
    "print (\"Current wind speed    :\",wind_spd ,'kmph')"
   ]
  },
  {
   "cell_type": "code",
   "execution_count": 8,
   "metadata": {},
   "outputs": [
    {
     "name": "stdout",
     "output_type": "stream",
     "text": [
      "[123, 233]\n"
     ]
    }
   ],
   "source": [
    "print(list({\"main\":123, \"wed\":233}.values()))"
   ]
  },
  {
   "cell_type": "code",
   "execution_count": null,
   "metadata": {},
   "outputs": [],
   "source": []
  }
 ],
 "metadata": {
  "kernelspec": {
   "display_name": "Python 3",
   "language": "python",
   "name": "python3"
  },
  "language_info": {
   "codemirror_mode": {
    "name": "ipython",
    "version": 3
   },
   "file_extension": ".py",
   "mimetype": "text/x-python",
   "name": "python",
   "nbconvert_exporter": "python",
   "pygments_lexer": "ipython3",
   "version": "3.7.1"
  }
 },
 "nbformat": 4,
 "nbformat_minor": 2
}
